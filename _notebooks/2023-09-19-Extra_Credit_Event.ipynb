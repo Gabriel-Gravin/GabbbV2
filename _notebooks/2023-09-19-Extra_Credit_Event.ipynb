{
 "cells": [
  {
   "attachments": {},
   "cell_type": "raw",
   "metadata": {},
   "source": [
    "---\n",
    "toc: true\n",
    "comments: true\n",
    "layout: post\n",
    "title: Extra credit event write up\n",
    "description: Write up\n",
    "courses: { compsci: {week: 5} }\n",
    "type: hacks\n",
    "---"
   ]
  },
  {
   "cell_type": "markdown",
   "metadata": {},
   "source": [
    "# College\n",
    "\n",
    "- Paves the way for college by learning things like github and will make future classes easier.\n",
    "- Apply to as many schools as possible to have the best possible chances because CS is very competative. All colleges are pretty good for CS.\n",
    "- Do different projects and look out for different oppertunities in leadership roles.\n",
    "\n",
    "# Interships and Jobs\n",
    "\n",
    "- Spend extra time making something of your own on top of the classes your in. Deploy everything you make so other people can see it.\n",
    "- Its one thing to say you do something but its another thing to show that you can do it and how well you can do it.\n",
    "- Build things that you like to do like videogames in order to keep your passion and build to your passion of coding.\n",
    "- Learn leet code in order to get a job.\n",
    "- Cheat Codes: Vercel is a deployment tool. Sveltkit is for web development. Personal Website allows people to see all your work. Tailwind CSS. Learn all the newest tools to get an advantage.\n",
    "- Don't skip out on the fundamentals.\n",
    "\n",
    "# Takeaways\n",
    "\n",
    "- Learn and focus on the fundementals because they will pave the way for everything else you do.\n",
    "- Always be on the lookout for different oppurtinities and take them.\n",
    "- Spend your own time making your own different projects. It will help you learn more faster and will give you a competitive advatage for jobs and internships.\n",
    "- Show what you can do with different things you've built rather then just saying what you can do.\n",
    "- Build things you like to grow your passion.\n",
    "\n",
    "# Reflections\n",
    "\n",
    "- After listening to the presentation I know to focus on what I want to build rather then only doing things in order to learn as fast as possible. It can be a fun hobby and I can learn a ton by having fun with it and being creative. There is also a balance of learning the things I don't want to do in order to improve my skills."
   ]
  }
 ],
 "metadata": {
  "kernelspec": {
   "display_name": "base",
   "language": "python",
   "name": "python3"
  },
  "language_info": {
   "codemirror_mode": {
    "name": "ipython",
    "version": 3
   },
   "file_extension": ".py",
   "mimetype": "text/x-python",
   "name": "python",
   "nbconvert_exporter": "python",
   "pygments_lexer": "ipython3",
   "version": "3.10.12"
  },
  "orig_nbformat": 4
 },
 "nbformat": 4,
 "nbformat_minor": 2
}
