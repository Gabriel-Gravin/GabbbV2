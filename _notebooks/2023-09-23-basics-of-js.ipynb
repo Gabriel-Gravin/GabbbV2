{
 "cells": [
  {
   "cell_type": "markdown",
   "metadata": {},
   "source": [
    "---\n",
    "comments: true\n",
    "title: Basics of Javascript\n",
    "hide: True\n",
    "description: A Tech Talk on how to use javascript\n",
    "type: ccc\n",
    "permalink: /basics/javascript\n",
    "author: Rohan Juneja\n",
    "---"
   ]
  },
  {
   "cell_type": "raw",
   "metadata": {},
   "source": [
    "{% include nav_basics.html %}\n"
   ]
  },
  {
   "cell_type": "code",
   "execution_count": 9,
   "metadata": {
    "vscode": {
     "languageId": "javascript"
    }
   },
   "outputs": [
    {
     "data": {
      "application/javascript": "// put your javascript code here\n\nfunction compare(a, b)\n{\n    if(a > b){\n        console.log(a + \" is greater than \" + b);\n    }else if(b > a){\n        console.log(b + \" is greater than \" + a);\n    }else{\n        console.log(a + \" \" + b + \" are the SAMEEEEE\");\n    }\n    //i love this function\n\n}\n\ncompare(1,2);\ncompare(444,444);\ncompare(0,-17);\n\n",
      "text/plain": [
       "<IPython.core.display.Javascript object>"
      ]
     },
     "metadata": {},
     "output_type": "display_data"
    }
   ],
   "source": [
    "%%js\n",
    "// put your javascript code here\n",
    "\n",
    "function compare(a, b)\n",
    "{\n",
    "    if(a > b){\n",
    "        console.log(a + \" is greater than \" + b);\n",
    "    }else if(b > a){\n",
    "        console.log(b + \" is greater than \" + a);\n",
    "    }else{\n",
    "        console.log(a + \" \" + b + \" are the SAMEEEEE\");\n",
    "    }\n",
    "    //i love this function\n",
    "\n",
    "}\n",
    "\n",
    "compare(1,2);\n",
    "compare(444,444);\n",
    "compare(0,-17);\n",
    "\n"
   ]
  }
 ],
 "metadata": {
  "kernelspec": {
   "display_name": "Python 3",
   "language": "python",
   "name": "python3"
  },
  "language_info": {
   "codemirror_mode": {
    "name": "ipython",
    "version": 3
   },
   "file_extension": ".py",
   "mimetype": "text/x-python",
   "name": "python",
   "nbconvert_exporter": "python",
   "pygments_lexer": "ipython3",
   "version": "3.10.12"
  },
  "orig_nbformat": 4
 },
 "nbformat": 4,
 "nbformat_minor": 2
}
