{
 "cells": [
  {
   "cell_type": "raw",
   "metadata": {},
   "source": [
    "---\n",
    "toc: true\n",
    "comments: true\n",
    "layout: post\n",
    "title: Individual work\n",
    "description: My work over my project\n",
    "courses: { compsci: {week: 7} }\n",
    "type: hacks\n",
    "---"
   ]
  },
  {
   "cell_type": "markdown",
   "metadata": {},
   "source": [
    "## Issues\n",
    "\n",
    "Throughout the project I have created issues in order to keep track of progress.\n",
    "\n",
    "<div>\n",
    "    <a href='https://github.com/Gabriel-Gravin/Teamwork/issues/1'>Background Issue</a>\n",
    "    <p>This issue explaines everything that I did with the background for my project.</p>\n",
    "    <a href='https://github.com/Gabriel-Gravin/Teamwork/issues/5'>Migrating to OOP Issue</a>\n",
    "    <p>This issue explaines the work I did while trying to migrate my code to OOP. Never got it to work and had to approch with a new strategy.</p>\n",
    "    <a href='https://github.com/Gabriel-Gravin/Teamwork/issues/6'>Integrating with Mr. Mort's code Issue</a>\n",
    "    <p>This issue shows how I started integrating my code into Mr. Mort's code and the challenges that came with it.</p>\n",
    "</div>"
   ]
  },
  {
   "cell_type": "markdown",
   "metadata": {},
   "source": [
    "## Creating the background\n",
    "\n",
    "Creating the background for our game was a pretty simple task but I still had some troubles with it. \n",
    "\n",
    "The first struggle I had was when I drew the background. I needed the top and the bottom of the background to match so there would be a smooth transition in the game. To do this I had to copy the top part of the background and paste it at the bottom so I could see where I needed to draw so it would line up.\n",
    "\n",
    "For the code to create the background I first made a canvas that had the width and height the background was going to be. I also made sure to add the link.src so the file could be found in order to actually see the background."
   ]
  },
  {
   "cell_type": "code",
   "execution_count": null,
   "metadata": {
    "vscode": {
     "languageId": "html"
    }
   },
   "outputs": [],
   "source": [
    "<canvas id=\"canvas\" width=\"500\" height=\"700\"></canvas>\n",
    "<script>\n",
    "    //create empty canvas\n",
    "    let canvas = document.getElementById(\"canvas\");\n",
    "    let c = canvas.getContext(\"2d\");\n",
    "    var bgImage = new Image();\n",
    "    bgImage.src = \"{{site.baseurl}}/images/Stone_Background.jpg\";"
   ]
  },
  {
   "cell_type": "markdown",
   "metadata": {},
   "source": [
    "Then I made variables for 3 different backgrounds. Each of which had the same dimensions, but were always in different places. I made one ubove the canvas that would move down into the canvas. One in the middle that would move off the canvas. And one below that canvas that would move back to the top. I used the logic to create a cycle that would keep these backgrounds always moving. I used if statements to detect when the bottom background needed to be moved back up to the top."
   ]
  },
  {
   "cell_type": "code",
   "execution_count": null,
   "metadata": {
    "vscode": {
     "languageId": "html"
    }
   },
   "outputs": [],
   "source": [
    "<canvas id=\"canvas\" width=\"500\" height=\"700\"></canvas>\n",
    "<script>\n",
    "    //create empty canvas\n",
    "    let canvas = document.getElementById(\"canvas\");\n",
    "    let c = canvas.getContext(\"2d\");\n",
    "    var bgImage = new Image();\n",
    "    bgImage.src = \"{{site.baseurl}}/images/Stone_Background.jpg\";\n",
    "    bgImage.onload = function () {\n",
    "        //set up backgrounds\n",
    "        var bg1 = {\n",
    "            width: 500,\n",
    "            height: 1000,\n",
    "            x: 0,\n",
    "            y: 0\n",
    "        }\n",
    "        var bg2 = {\n",
    "            width: 500,\n",
    "            height: 1000,\n",
    "            x: 0,\n",
    "            y: -1000\n",
    "        }\n",
    "        var bg3 = {\n",
    "            width: 500,\n",
    "            height: 1000,\n",
    "            x: 0,\n",
    "            y: -2000\n",
    "        }"
   ]
  },
  {
   "cell_type": "markdown",
   "metadata": {},
   "source": [
    "I then created an interval to move each background down 3 pixles every 50 milliseconds. That would update the postion of the backgrounds before drawing them back onto the canvas."
   ]
  },
  {
   "cell_type": "code",
   "execution_count": null,
   "metadata": {
    "vscode": {
     "languageId": "html"
    }
   },
   "outputs": [],
   "source": [
    "<canvas id=\"canvas\" width=\"500\" height=\"700\"></canvas>\n",
    "<script>\n",
    "    //create empty canvas\n",
    "    let canvas = document.getElementById(\"canvas\");\n",
    "    let c = canvas.getContext(\"2d\");\n",
    "    var bgImage = new Image();\n",
    "    bgImage.src = \"{{site.baseurl}}/images/Stone_Background.jpg\";\n",
    "    bgImage.onload = function () {\n",
    "        //set up backgrounds\n",
    "        var bg1 = {\n",
    "            width: 500,\n",
    "            height: 1000,\n",
    "            x: 0,\n",
    "            y: 0\n",
    "        }\n",
    "        var bg2 = {\n",
    "            width: 500,\n",
    "            height: 1000,\n",
    "            x: 0,\n",
    "            y: -1000\n",
    "        }\n",
    "        var bg3 = {\n",
    "            width: 500,\n",
    "            height: 1000,\n",
    "            x: 0,\n",
    "            y: -2000\n",
    "        }\n",
    "        var interval = setInterval(function() {\n",
    "            bg1.y +=3;\n",
    "            bg2.y +=3;\n",
    "            bg3.y +=3;\n",
    "            if (bg1.y == 2000) {\n",
    "                bg1.y = 0;\n",
    "            }\n",
    "            if (bg2.y == 1000) {\n",
    "                bg2.y = -1000;\n",
    "            }\n",
    "            if (bg3.y == 0) {\n",
    "                bg3.y = -2000;\n",
    "            }\n",
    "            c.drawImage(bgImage, bg1.x, bg1.y)\n",
    "            c.drawImage(bgImage, bg2.x, bg2.y)\n",
    "            c.drawImage(bgImage, bg3.x, bg3.y)\n",
    "        }, 50);\n",
    "    };\n",
    "</script>"
   ]
  },
  {
   "cell_type": "markdown",
   "metadata": {},
   "source": [
    "## Left, Right, and Idle\n",
    "\n",
    "First I needed to add some variables I could set true or false in order to know when Link would be moving right, right, or Idle."
   ]
  },
  {
   "cell_type": "code",
   "execution_count": null,
   "metadata": {
    "vscode": {
     "languageId": "html"
    }
   },
   "outputs": [],
   "source": [
    "let isMovingLeft = false;\n",
    "let isMovingRight = false;\n",
    "let isIdle = true;"
   ]
  },
  {
   "cell_type": "markdown",
   "metadata": {},
   "source": [
    "I then added a funtion to move the character left and a funtion to move it right. The funcitons sets the moving variable to true and the idle variable to false. Then it sets the max frame and the Y frame within the sprite so the animation will be correct. Same thing for the idle funtion except it only sets the idle variable to true and sets the max frame and the Y frames."
   ]
  },
  {
   "cell_type": "code",
   "execution_count": null,
   "metadata": {
    "vscode": {
     "languageId": "html"
    }
   },
   "outputs": [],
   "source": [
    "function moveLeft() {\n",
    "    isMovingLeft = true;\n",
    "    isIdle = false;\n",
    "    frameY = 5;\n",
    "    maxFrame = 9;\n",
    "}\n",
    "// Function to handle moving right when d is pressed\n",
    "function moveRight() {\n",
    "    isMovingRight = true;\n",
    "    isIdle = false;\n",
    "    frameY = 7;\n",
    "    maxFrame = 9;\n",
    "}\n",
    "// Function to handle idle\n",
    "function idle() {\n",
    "    isIdle = true;\n",
    "    frameY = 0;\n",
    "    maxFrame = 2;\n",
    "}"
   ]
  },
  {
   "cell_type": "markdown",
   "metadata": {},
   "source": [
    "In order to call these funtions I added a key down window listener to see when the a key was pressed for left, d for right, and nothing for idle. Depeding on the key that was pressed it would call the specific function."
   ]
  },
  {
   "cell_type": "code",
   "execution_count": null,
   "metadata": {
    "vscode": {
     "languageId": "html"
    }
   },
   "outputs": [],
   "source": [
    "window.addEventListener('keydown', (event) => {\n",
    "    if (event.key === ' ') {\n",
    "        jump();\n",
    "    } else if (event.key === 'a') {\n",
    "        moveLeft();\n",
    "    } else if (event.key === 'd') {\n",
    "        moveRight();\n",
    "    }\n",
    "});"
   ]
  },
  {
   "cell_type": "markdown",
   "metadata": {},
   "source": [
    "I then had to make sure Link would stop moving once no key was being pressed and would go to the idle animation. So I added a keyup window listener to see when each key was lifted. If the a key was lifted it would make the moving left variable false and the idle variable ture. Same for the right."
   ]
  },
  {
   "cell_type": "code",
   "execution_count": null,
   "metadata": {
    "vscode": {
     "languageId": "html"
    }
   },
   "outputs": [],
   "source": [
    "window.addEventListener('keyup', (event) => {\n",
    "    if (event.key === 'a') {\n",
    "        idle();\n",
    "        isMovingLeft = false;\n",
    "    } else if (event.key === 'd') {\n",
    "        idle();\n",
    "        isMovingRight = false;\n",
    "    }\n",
    "})"
   ]
  },
  {
   "cell_type": "markdown",
   "metadata": {},
   "source": [
    "Finally I added an if statement in the game loop function that would add pixles when the moving right variable is true and subtract pixles when the moving left variable is true. This makes the character move left and right on the screen."
   ]
  },
  {
   "cell_type": "code",
   "execution_count": null,
   "metadata": {
    "vscode": {
     "languageId": "html"
    }
   },
   "outputs": [],
   "source": [
    "if (isMovingLeft) {\n",
    "    spriteX -= 10;\n",
    "}\n",
    "if (isMovingRight) {\n",
    "    spriteX += 10;\n",
    "}"
   ]
  },
  {
   "cell_type": "markdown",
   "metadata": {},
   "source": [
    "I had one bug where if you jumped and then moved and then let go of the jump key, you would be moving in the idle animation. I fixed this by simply getting rid of the part of the key up if statement that made it so if no keys were pressed it would be idle. This made it impossible for Link to idle unless the a or d keys were lifted."
   ]
  },
  {
   "cell_type": "markdown",
   "metadata": {},
   "source": [
    "## Migrating to OOP part 1\n",
    "\n",
    "First thing I did was make a new js file to store a character class. In this class I put everything a basic character would need like the variables for the spritesheet, the dimestions, and everything for movement."
   ]
  },
  {
   "cell_type": "code",
   "execution_count": null,
   "metadata": {
    "vscode": {
     "languageId": "html"
    }
   },
   "outputs": [],
   "source": [
    "export class Character {\n",
    "    constructor(spriteURL, spritewidth, spriteheight, x, y, jump, gravity, maxFrame, movementSpeed) {\n",
    "        this.frameX = 0;\n",
    "        this.frameY = 0;\n",
    "        this.maxFrame = maxFrame;\n",
    "        this.spriteX = x;\n",
    "        this.spriteY = y;\n",
    "        this.spritewidth = spritewidth;\n",
    "        this.spriteheight = spriteheight;\n",
    "        this.isMovingLeft = false;\n",
    "        this.isMovingRight = false;\n",
    "        this.isJumping = false;\n",
    "        this.isIdle = true;\n",
    "        this.spriteImage = new Image();\n",
    "        this.spriteImage.src = spriteURL;\n",
    "        this.spriteVelocityY = 0;\n",
    "        this.gravity = gravity;\n",
    "        this.jumpStrength = jump;\n",
    "        this.movementSpeed = movementSpeed;\n",
    "    }\n",
    "};"
   ]
  },
  {
   "cell_type": "markdown",
   "metadata": {},
   "source": [
    "In my main file I created a variable to store all of link attributes which I used the character class to create. I had trouble understanding how the constructor worked but it's actually pretty simple. Each slot in the constructer corresponds to the variable you set it too."
   ]
  },
  {
   "cell_type": "code",
   "execution_count": null,
   "metadata": {
    "vscode": {
     "languageId": "html"
    }
   },
   "outputs": [],
   "source": [
    "var Link = new Character('{{site.baseurl}}/images/linksprites.png', 96, 104, 100, 400 - 104, -10, .5, 2, 10);"
   ]
  },
  {
   "cell_type": "markdown",
   "metadata": {},
   "source": [
    "I then had to change every variable in the file to the variables I used in the class by adding a Link. in front of it. After doing that my code didn't work. I reviewed everything and made sure all the variables were right and the constructor was right and I had all the same stuff the main file had execpt just integrated. After overlooking everything many times and asking chatGPT I still couldn't get it to work. I asked Mr. Mort and we decided to restart by using Mr. Morts Alien World code."
   ]
  },
  {
   "cell_type": "code",
   "execution_count": null,
   "metadata": {
    "vscode": {
     "languageId": "html"
    }
   },
   "outputs": [],
   "source": [
    "<body>\n",
    "    <canvas id=\"gameCanvas\" width=\"800\" height=\"400\"></canvas>\n",
    "    <script type=\"module\">\n",
    "        import { Character } from '{{site.baseurl}}/assets/js/Character.js'\n",
    "        var Link = new Character('{{site.baseurl}}/images/linksprites.png', 96, 104, 100, 400 - 104, -10, .5, 2, 10);\n",
    "        // Get the canvas and its 2D rendering context\n",
    "        const canvas = document.getElementById('gameCanvas');\n",
    "        const ctx = canvas.getContext('2d');\n",
    "        // Load the background image\n",
    "        const backgroundImage = new Image();\n",
    "        backgroundImage.src = '{{site.baseurl}}/images/park.jpg';\n",
    "        // Function to update sprite animation\n",
    "        function updateSpriteAnimation() {\n",
    "            if (Link.frameX < Link.maxFrame) {\n",
    "                Link.frameX++;\n",
    "            } else {\n",
    "                Link.frameX = 0;\n",
    "            }\n",
    "        }\n",
    "        // Function to handle jumping when spacebar is pressed\n",
    "        function jump() {\n",
    "            if (!Link.isJumping) {\n",
    "                Link.spriteVelocityY = Link.jumpStrength;\n",
    "                Link.isJumping = true;\n",
    "            }\n",
    "        }\n",
    "        // Function to handle moving left when a is pressed\n",
    "        function moveLeft() {\n",
    "            Link.isMovingLeft = true;\n",
    "            Link.isIdle = false;\n",
    "            Link.frameY = 5;\n",
    "            Link.maxFrame = 9;\n",
    "        }\n",
    "        // Function to handle moving right when d is pressed\n",
    "        function moveRight() {\n",
    "            Link.isMovingRight = true;\n",
    "            Link.isIdle = false;\n",
    "            Link.frameY = 7;\n",
    "            Link.maxFrame = 9;\n",
    "        }\n",
    "        // Function to handle idle\n",
    "        function idle() {\n",
    "            Link.isIdle = true;\n",
    "            Link.frameY = 0;\n",
    "            Link.maxFrame = 2;\n",
    "        }\n",
    "        // Event listener for key downs\n",
    "        window.addEventListener('keydown', (event) => {\n",
    "            if (event.key === ' ') {\n",
    "                jump();\n",
    "            } else if (event.key === 'a') {\n",
    "                moveLeft();\n",
    "            } else if (event.key === 'd') {\n",
    "                moveRight();\n",
    "            }\n",
    "        });\n",
    "        // Event listener for key ups\n",
    "        window.addEventListener('keyup', (event) => {\n",
    "            if (event.key === 'a') {\n",
    "                idle();\n",
    "                Link.isMovingLeft = false;\n",
    "            } else if (event.key === 'd') {\n",
    "                idle();\n",
    "                Link.isMovingRight = false;\n",
    "            }\n",
    "        })\n",
    "        // Game loop\n",
    "        let framesPerSecond = 30;\n",
    "        function gameLoop() {\n",
    "            // Draw the background image\n",
    "            ctx.drawImage(backgroundImage, 0, 0, canvas.width, canvas.height);\n",
    "            // Update sprite position based on key down left and right\n",
    "            if (Link.isMovingLeft) {\n",
    "                Link.spriteX -= Link.movementSpeed;\n",
    "            }\n",
    "            if (Link.isMovingRight) {\n",
    "                Link.spriteX += Link.movementSpeed;\n",
    "            }\n",
    "            // Update the sprite position based on gravity\n",
    "            Link.spriteVelocityY += Link.gravity;\n",
    "            Link.spriteY += Link.spriteVelocityY;\n",
    "            // Check if the sprite has landed\n",
    "            if (Link.spriteY >= canvas.height - Link.spriteHeight) {\n",
    "                Link.spriteY = canvas.height - Link.spriteHeight;\n",
    "                Link.spriteVelocityY = 0;\n",
    "                Link.isJumping = false;\n",
    "            }\n",
    "            // Draw the current sprite frame\n",
    "            ctx.drawImage(\n",
    "                Link.spriteImage,\n",
    "                Link.frameX * Link.spriteWidth, // Adjust the X-coordinate of the frame within the sprite sheet\n",
    "                Link.frameY * Link.spriteHeight, // The Y-coordinate within the sprite sheet (assuming Y is always 0 for frames)\n",
    "                Link.spriteWidth, // Width of the frame\n",
    "                Link.spriteHeight, // Height of the frame\n",
    "                Link.spriteX, // X-coordinate where the frame is drawn on the canvas\n",
    "                Link.spriteY, // Y-coordinate where the frame is drawn on the canvas\n",
    "                Link.spriteWidth, // Width of the frame when drawn on the canvas\n",
    "                Link.spriteHeight // Height of the frame when drawn on the canvas\n",
    "            );\n",
    "            // Update sprite animation\n",
    "            updateSpriteAnimation();\n",
    "            // Keeps loop running\n",
    "            setTimeout(function() {\n",
    "            requestAnimationFrame(gameLoop);\n",
    "            }, 1000 / framesPerSecond);\n",
    "        }\n",
    "        gameLoop();\n",
    "    </script>\n",
    "</body>"
   ]
  },
  {
   "cell_type": "markdown",
   "metadata": {},
   "source": [
    "## Migrating to OOP part 2\n",
    "\n",
    "I first downloaded all of Mr. Morts project into my repository.\n",
    "\n",
    "I then changed the link to the background. I also added all the logic for the background into the background class."
   ]
  },
  {
   "cell_type": "markdown",
   "metadata": {},
   "source": [
    "## Reflection\n",
    "\n",
    "This trimester has been super fun and I loved working on all the different things. I learned a lot about markdown, html, and javascript. Learned the syntax for markdown, learned lots of tags in html, and learned lots of different things in javascript like variables, classes, if statements, and overall just how to code different things. I learned how to use draw and update functions and call them within a loop in order to get animations and movement and different things working. I really like functions because I don't have to rewrite code and it makes the file a lot simpler and more organized. In trimester 2 I really look forward to diving deeper into collisions and hitboxes. I didn't really do much with collisions this trimester and want to understand how to make different components in a game work with each other. I want to learn how to build a hitbox around a character and use that in order to help with collisions. I also want to work on OOP a lot more. Maybe starting with it next trimester will make it easier to wrap my head around. Overall this trimester was a great learning experiance and I had lot of fun coding with my team. We made some great memories and I hope they're in my class next year!"
   ]
  }
 ],
 "metadata": {
  "kernelspec": {
   "display_name": "Python 3",
   "language": "python",
   "name": "python3"
  },
  "language_info": {
   "name": "python",
   "version": "3.10.12"
  }
 },
 "nbformat": 4,
 "nbformat_minor": 2
}
