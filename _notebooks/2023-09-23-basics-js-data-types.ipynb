{
 "cells": [
  {
   "cell_type": "markdown",
   "metadata": {},
   "source": [
    "---\n",
    "comments: true\n",
    "title: Javascript Data Types/Lists\n",
    "hide: True\n",
    "description: A Tech Talk on javascript data types and how to use with lists\n",
    "type: ccc\n",
    "permalink: /basics/datatypes\n",
    "author: Rohan Juneja\n",
    "---"
   ]
  },
  {
   "cell_type": "raw",
   "metadata": {},
   "source": [
    "{% include nav_basics.html %}\n"
   ]
  },
  {
   "cell_type": "code",
   "execution_count": 4,
   "metadata": {
    "vscode": {
     "languageId": "javascript"
    }
   },
   "outputs": [
    {
     "data": {
      "application/javascript": "// put your javascript code here (make sure to run it and check your outputs in the console)\n\nvar me = {\n    name: \"Gabriel\",\n    age: 16,\n    classes: [\"American Literature\", \"US History\", \"Calculus\", \"CSSE\"],\n    interests: [\"Wakeboarding\", \"Videogames\", \"Flying\"],\n    favoriteFood: \"Crepes\",\n    favoritePlace: \"Minnesota\",\n};\n\nconsole.log(me);\n\nme.classes.push(\"Off Roll\");\n\n//add 10 to the age\nme.age += 10;\n//multiply the age by 2\nme.age *= 2;\nconsole.log(\"this is the result of adding 10 to my age, then multiplyiong age by 2: \" + me.age);\n\n//type of age\nconsole.log(\"here is the type of age!!\")\nconsole.log(typeof me.age)\n\n//type of my name!!!! :)))\nconsole.log(\"here is the type of name!!\")\nconsole.log(typeof me.name)\n\n//type of my classes... \nconsole.log(\"here is the type of classes!!\")\nconsole.log(typeof me.classes)\n\n//adding favorite number\nme[\"favoriteNumber\"] = 12;\n\n//subract 2 from favoriteNumber\nme.favoriteNumber -= 2;\n//divide favoriteNumber by 2\nme.favoriteNumber /= 5;\nconsole.log(\"This is the result of subracting \" + me.favoriteNumber + \" from my favorite number and then dividing it by \" + me.favoriteNumber + \":\" + me.favoriteNumber);\n\n",
      "text/plain": [
       "<IPython.core.display.Javascript object>"
      ]
     },
     "metadata": {},
     "output_type": "display_data"
    }
   ],
   "source": [
    "%%js\n",
    "// put your javascript code here (make sure to run it and check your outputs in the console)\n",
    "\n",
    "var me = {\n",
    "    name: \"Gabriel\",\n",
    "    age: 16,\n",
    "    classes: [\"American Literature\", \"US History\", \"Calculus\", \"CSSE\"],\n",
    "    interests: [\"Wakeboarding\", \"Videogames\", \"Flying\"],\n",
    "    favoriteFood: \"Crepes\",\n",
    "    favoritePlace: \"Minnesota\",\n",
    "};\n",
    "\n",
    "console.log(me);\n",
    "\n",
    "me.classes.push(\"Off Roll\");\n",
    "\n",
    "//add 10 to the age\n",
    "me.age += 10;\n",
    "//multiply the age by 2\n",
    "me.age *= 2;\n",
    "console.log(\"this is the result of adding 10 to my age, then multiplyiong age by 2: \" + me.age);\n",
    "\n",
    "//type of age\n",
    "console.log(\"here is the type of age!!\")\n",
    "console.log(typeof me.age)\n",
    "\n",
    "//type of my name!!!! :)))\n",
    "console.log(\"here is the type of name!!\")\n",
    "console.log(typeof me.name)\n",
    "\n",
    "//type of my classes... \n",
    "console.log(\"here is the type of classes!!\")\n",
    "console.log(typeof me.classes)\n",
    "\n",
    "//adding favorite number\n",
    "me[\"favoriteNumber\"] = 12;\n",
    "\n",
    "//subract 2 from favoriteNumber\n",
    "me.favoriteNumber -= 2;\n",
    "//divide favoriteNumber by 2\n",
    "me.favoriteNumber /= 5;\n",
    "console.log(\"This is the result of subracting 2 from my favorite number and then dividing it by 5: \" + me.favoriteNumber);\n",
    "\n"
   ]
  }
 ],
 "metadata": {
  "kernelspec": {
   "display_name": "Python 3 (ipykernel)",
   "language": "python",
   "name": "python3"
  },
  "language_info": {
   "codemirror_mode": {
    "name": "ipython",
    "version": 3
   },
   "file_extension": ".py",
   "mimetype": "text/x-python",
   "name": "python",
   "nbconvert_exporter": "python",
   "pygments_lexer": "ipython3",
   "version": "3.10.12"
  }
 },
 "nbformat": 4,
 "nbformat_minor": 4
}
